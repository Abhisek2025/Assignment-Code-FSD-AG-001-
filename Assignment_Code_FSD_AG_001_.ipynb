{
  "nbformat": 4,
  "nbformat_minor": 0,
  "metadata": {
    "colab": {
      "provenance": [],
      "toc_visible": true
    },
    "kernelspec": {
      "name": "python3",
      "display_name": "Python 3"
    },
    "language_info": {
      "name": "python"
    }
  },
  "cells": [
    {
      "cell_type": "code",
      "execution_count": null,
      "metadata": {
        "id": "tNT7pHaS0hHt"
      },
      "outputs": [],
      "source": []
    },
    {
      "cell_type": "markdown",
      "source": [
        "**Question 1 : Explain the basic structure of an HTML page. Why is it important to follow this structure? **\n",
        "\n",
        "---\n",
        "The basic structure of html page is a standard format that allows the web browser to display the content and interpret html code correctly.\n",
        "The Structure is:\n",
        "\n",
        "<!DOCTYPE html>\n",
        "<html lang=\"eng\">\n",
        "<head>\n",
        "<meta charset=\"UTF-8\">\n",
        "<meta name=\"viewport\" content=\"width=device-width, initial-scale=1.0\">\n",
        "<title>The HTML Document>\n",
        "</head>\n",
        "<body>\n",
        "<!--list of the statement--->\n",
        "</body>\n",
        "</html>\n",
        "\n",
        "```\n",
        "# This is formatted as code\n",
        "```\n",
        "\n",
        "**Importance of html:**\n",
        "\n",
        "*   Make the code more efficient\n",
        "\n",
        "*  It is easier for the developer to read,write and update the code as per requirment.\n",
        "\n",
        "\n",
        "* Improving visibility of the  search result as well as the search engine optimization.\n",
        "* All the web browser render the code efficiently."
      ],
      "metadata": {
        "id": "mTLsrqXj0k7V"
      }
    },
    {
      "cell_type": "markdown",
      "source": [
        "Question 2: You’re building a small personal profile page. Which HTML tags will you use to highlight your name as a heading, describe yourself in a paragraph, and emphasize a key skill?\n",
        "\n",
        "---\n",
        "\n",
        "#Answer:\n",
        "<!DOCTYPE html>\n",
        "<html lang=\"eng\">\n",
        "<head>\n",
        "<meta charset=\"UTF-8\">\n",
        "<meta name=\"viewport\" content=\"width=device-width, initial scale=1.0\">\n",
        "<title>Profile Page</title>\n",
        "</head>\n",
        "<body>\n",
        "<h1>My Personal Profile Page</h1>\n",
        "<h2><b>Abhisek Koyal</b></h2>\n",
        "<p>I am a MCA student with a strong interest in web development and data analysis.</p>\n",
        "<!--My skills are-->\n",
        "<p>My key skill is <strong>Python programming</strong>, which I use to solve real-world problems.</P>\n",
        "</body>\n",
        "</html>\n",
        "\n",
        "```\n",
        "# This is formatted as code\n",
        "```\n",
        "\n"
      ],
      "metadata": {
        "id": "wyud-UQy8ArA"
      }
    },
    {
      "cell_type": "markdown",
      "source": [],
      "metadata": {
        "id": "ySBps2bh8DhN"
      }
    },
    {
      "cell_type": "markdown",
      "source": [
        "Question 3: Look at the code below. Can you find and fix the mistake? <!-- This is an HTML comment\n",
        "<h1>Welcome to my website</h1>\n",
        "\n",
        "---\n",
        "\n",
        "#Answer:\n",
        "The comment Syntax is wrong as the correct one is\n",
        "<!--This is a Comment-->\n",
        "\n",
        "<!--This is an html Comment--->\n",
        "<h1>Welcome to my website</h1>\n",
        "\n",
        "```\n",
        "# This is formatted as code\n",
        "```\n",
        "\n",
        "\n",
        "\n",
        "\n"
      ],
      "metadata": {
        "id": "uWAlEHE0AIIb"
      }
    },
    {
      "cell_type": "markdown",
      "source": [
        "Question 4: You’re creating a form that asks the user to enter their name, select their country from a list, and click a button to submit. Write the HTML code for this.\n",
        "\n",
        "---\n",
        "#Answer\n",
        "<!DOCTYPE html>\n",
        "<html lang=\"en\">\n",
        "    <meta charset=\"UTF-8\">\n",
        "    <meta name=\"Viewport\" content=\"\"width=device-width, initial-scale=\"1.0\">\n",
        "    <title>User Information Form</title>\n",
        "    </head>\n",
        "    <body>\n",
        "        <!-- You’re creating a form that asks the user to enter their name, select their country from a list, and click a button to submit. Write the HTML code for this. -->\n",
        "         <h1>User Information Form </h1>\n",
        "           <form action=\"#\" method=\"post\">\n",
        "            <label for=\"name\">Name:</label>\n",
        "            <input type=\"text\" id=\"name\" name=\"name\" required>\n",
        "            <br><br>\n",
        "            <label for=\"country\">Select Your country</label>\n",
        "            <select id=\"country\" name=\"country\" required>\n",
        "                <option value=\"\">Select country</option>\n",
        "                <option value=\"india\">India</option>\n",
        "                <option value=\"usa\">United States</option>\n",
        "                <option value=\"uk\">United Kingdom</option>\n",
        "                <option value=\"canada\">Canada</option>\n",
        "                <option value=\"australia\">Australia</option>\n",
        "                <option value=\"germany\">Germany</option>\n",
        "                <option value=\"france\">France</option>\n",
        "                <option value=\"japan\">Japan</option>\n",
        "                <option value=\"china\">China</option>\n",
        "                <option value=\"brazil\">Brazil</option>\n",
        "                </select>\n",
        "                <br><br>\n",
        "                <input type=\"submit\" value=\"Submit\">\n",
        "            </form>\n",
        "    </body>\n",
        "</html>\n",
        "\n",
        "```\n",
        "# This is formatted as code\n",
        "```\n",
        "\n",
        "\n"
      ],
      "metadata": {
        "id": "Ro3d1Ww-A31q"
      }
    },
    {
      "cell_type": "markdown",
      "source": [
        "Question 5: Write short HTML code to show your favorite fruits in a bulleted list and your top 3 programming languages in a numbered list.\n",
        "\n",
        "---\n",
        "\n",
        "<!DOCTYPE html>\n",
        "<html lang=\"en\">\n",
        "<head>\n",
        "    <meta charset=\"UTF-8\">\n",
        "    <meta name=\"viewport\" content=\"width=device-width, initial-scale=1.0\">\n",
        "    <title>Document</title>\n",
        "</head>\n",
        "<body>\n",
        "    <!--Question 5: Write short HTML code to show your favorite fruits in a bulleted list and your top 3 programming languages in a numbered list. -->\n",
        "    <h1>Enter your Favourite Fruits:</h1>\n",
        "    <ul>\n",
        "        <li>\n",
        "            <h2>Apple</h2>\n",
        "        </li>\n",
        "        <li>\n",
        "            <h2>Banana</h2>\n",
        "        </li>\n",
        "        <li>\n",
        "            <h2>Orange</h2>\n",
        "        </li>\n",
        "        <li>\n",
        "            <h2>Mango</h2>\n",
        "        </li>\n",
        "        <li>\n",
        "            <h2>Grapes</h2>     \n",
        "        </li>     \n",
        "    </ul>\n",
        "    <br><br\n",
        "    <h1><b>Enter your Top 3 Programming Languages:</b></h1>\n",
        "    <ol>\n",
        "        <li>\n",
        "            <h2>Python</h2>\n",
        "        </li>\n",
        "        <li>\n",
        "            <h2>Java</h2>\n",
        "        </li>\n",
        "        <li>\n",
        "            <h2>C++</h2>\n",
        "        </li>\n",
        "        </ol>\n",
        "</body>\n",
        "</html>\n",
        "\n",
        "```\n",
        "# This is formatted as code\n",
        "```\n",
        "\n"
      ],
      "metadata": {
        "id": "Gvz4eA4RINqe"
      }
    },
    {
      "cell_type": "markdown",
      "source": [
        "Question 6: Ravi wants to leave a note in his HTML file so that only other developers can see it, not the users on the website. How should he do this? Why are such notes useful?\n",
        "\n",
        "---\n",
        "\n",
        "- Ravi should leave a comment using this syntax\n",
        "`<!--Leave your comment-->`\n",
        "\n",
        "Useful of Comment:\n",
        "- Allow the others developer those are working on the same project to read the code easily and Understand and rewrite the code efficiently.\n",
        "-Helps for the explain the code as well as the structure of the code.\n",
        "-Comment increase the space in memory but its make the code more efficient."
      ],
      "metadata": {
        "id": "KPc6JiMmJzMU"
      }
    },
    {
      "cell_type": "markdown",
      "source": [
        "Question 7: Here’s a form snippet. Can you spot the error and rewrite the correct version?\n",
        "\n",
        "---\n",
        "1.Original Code\n",
        "<form>\n",
        "  <input name=\"email\">\n",
        "  <select>\n",
        "    <option>India</option>\n",
        "  </select>\n",
        "  <button>Send</buton>\n",
        "</form>\n",
        "\n",
        "Errors Will be:\n",
        "<form action=\"#\" method=\"post\">\n",
        "<label for=\"email\">Email</label>\n",
        "<input type=\"text\" name=\"email\" id=\"email\" required>\n",
        "<br><br>\n",
        "<select id=\"country\" name=\"country\" required>\n",
        "<option value=\"india\">India</option>\n",
        "</select>\n",
        "<br><br>\n",
        "<form>\n",
        "\n",
        "```\n",
        "# This is formatted as code\n",
        "```"
      ],
      "metadata": {
        "id": "uPEg2Jv1LOm3"
      }
    }
  ]
}